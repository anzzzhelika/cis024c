{
 "cells": [
  {
   "cell_type": "markdown",
   "metadata": {},
   "source": [
    "\n",
    "# CIS024C - Fall 2017 - Thursday 5:30-9:25pm \n",
    "\n",
    "## Homework 10\n",
    "\n",
    "Homework 10 covers object oriented programming in Python\n",
    "\n",
    "The below sites have some interesting and useful information on working with files\n",
    "\n",
    "https://drive.google.com/open?id=1OrcpXEmhvgcJxSlchIBsvmXST0lG_uKx\n",
    "http://www.tutorialspoint.com/python/python_classes_objects.htm\n",
    "\n",
    "You will need to download this notebook and use this as a starting point for your homework. You will just need to fill in the content of each code-block (cell) and execute. Once you have completed all the exercises, you will need to save and upload this to your github repository under a folder called hw10.\n",
    "\n",
    "Note also the exercises build on top of one another so you might be able to do the next exercise if you have not completed the previous exercise.\n",
    "\n",
    "Post any questions you have on our Slack at **cis-024c1.slack.com**\n",
    "\n",
    "** Slides ** for Week 10 can be found at \n",
    "\n",
    "https://docs.google.com/presentation/d/1AigvCKV1yb3PrrcT5xt3IqyAwGpv6IKMNWYUiQ2Oy6k/edit?usp=sharing\n",
    "\n",
    "**Please refer back to hw1 and slack for instructions on how to setup your computer for developing using Python.**"
   ]
  },
  {
   "cell_type": "markdown",
   "metadata": {},
   "source": [
    "### Helpful Jupyter Commands\n",
    "\n",
    "Below are some useful commands to know when using Jupyter\n",
    "\n",
    "1. You can add a new cell by clicking on the \"+\" icon on top.\n",
    "2. You can delete a cell by selecting that cell and clicking on the \"scissors\" icon on top.\n",
    "3. You can execute a cell by either pressing shift+enter or selecting the \"play\" button on top.\n",
    "4. You can create a new file in Jupyter via the File menu->New Notebook option. Make sure to select Python 2 when creating your notebook.\n",
    "5. Also, for your code blocks make sure that Code is selected instead of another option like Markdown.\n",
    "6. Use the Enter key to go to the next line in a cell to enter the next statement.\n",
    "7. You can clear results by clicking on the Cell menu item and selecting Current Output->Clear or All Output->Clear depending on whether you are trying to just clear the output for one cell or for all cells.\n",
    "8. In case your program has crashed for some reason (infinite loop, for example), you can restart your Python session by select Kernel in the menu and selecting Restart.\n"
   ]
  },
  {
   "cell_type": "markdown",
   "metadata": {},
   "source": [
    "#### Check Python Version"
   ]
  },
  {
   "cell_type": "code",
   "execution_count": 1,
   "metadata": {},
   "outputs": [
    {
     "name": "stdout",
     "output_type": "stream",
     "text": [
      "Python 2.7.13 :: Anaconda, Inc.\r\n"
     ]
    }
   ],
   "source": [
    "!python --version"
   ]
  },
  {
   "cell_type": "markdown",
   "metadata": {},
   "source": [
    "#### Sample Exercises with Exception Handling\n",
    "\n",
    "Week 10 Class Work can be found here\n",
    "\n",
    "https://github.com/cis024c/fall2017classwork/blob/master/week10/week10_classwork.ipynb"
   ]
  },
  {
   "cell_type": "markdown",
   "metadata": {},
   "source": [
    "**Exercise 1 - Testing your knowledge of object oriented programming concepts **\n",
    "\n",
    "Answer the below questions\n",
    "\n",
    "1. Why do we need classes?\n",
    "2. What is encapsulation?"
   ]
  },
  {
   "cell_type": "markdown",
   "metadata": {},
   "source": [
    "1. A class is a template for objects in the object-oriented programming.We can fill the class template with fields and methods to manipulate those fields. Classes favor code re-usability and customization, they tend to cut development time and reduce code redundancy.\n",
    "2. We can restrict access to methods and variables in OOP. This can prevent the data from being modified by accident and is known as encapsulation."
   ]
  },
  {
   "cell_type": "markdown",
   "metadata": {},
   "source": [
    "** Exercise 2 - Class creation **\n",
    "\n",
    "Create a Python class named **Employee** with the following attributes and methods\n",
    "\n",
    "Data members\n",
    "```\n",
    "1. employeeName  - type string\n",
    "2. employeeAge  - type int\n",
    "3. employeeSalary - type float\n",
    "```\n",
    "\n",
    "Methods:\n",
    "```\n",
    "1. getEmployee - returns employee name\n",
    "2. getEmployeeAge - gets the employee age\n",
    "3. getEmployeeSalary - returns the employee salary\n",
    "4. __init__ - initialize method accepts the name, age and salary of the employee\n",
    "```\n",
    "\n",
    "Create an object of type Employee and initialize with arbitrary values. Invoke the get methods and display the result."
   ]
  },
  {
   "cell_type": "code",
   "execution_count": 19,
   "metadata": {},
   "outputs": [
    {
     "name": "stdout",
     "output_type": "stream",
     "text": [
      "Name : Misha\n",
      "Age : 30\n",
      "Salary : 1000.00\n"
     ]
    }
   ],
   "source": [
    "class Employee(object):\n",
    "    def __init__(self, employeeName, employeeAge, employeeSalary):\n",
    "        self.employeeName = employeeName\n",
    "        self.employeeAge = employeeAge\n",
    "        self.employeeSalary = employeeSalary\n",
    "        \n",
    "    def getEmployeeName(self):\n",
    "        print(\"Name : {}\".format(self.employeeName))\n",
    "        \n",
    "    def getEmployeeAge(self):\n",
    "        print(\"Age : {}\".format(self.employeeAge))\n",
    "        \n",
    "    def getEmployeeSalary(self):\n",
    "        print(\"Salary : {:.2f}\".format(self.employeeSalary))\n",
    "        \n",
    "        \n",
    "emp1 = Employee(\"Misha\", 30, 1000.00)\n",
    "\n",
    "emp1.getEmployeeName()\n",
    "emp1.getEmployeeAge()\n",
    "emp1.getEmployeeSalary()\n",
    "      \n",
    "        "
   ]
  },
  {
   "cell_type": "markdown",
   "metadata": {},
   "source": [
    "#### Exercise 3 - Private members\n",
    "\n",
    "In the above **Employee** class make the employeeName, employeeAge and employeeSalary private so that their access is restricted to only within the class."
   ]
  },
  {
   "cell_type": "code",
   "execution_count": 20,
   "metadata": {},
   "outputs": [
    {
     "name": "stdout",
     "output_type": "stream",
     "text": [
      "Salary : 1000.00\n"
     ]
    }
   ],
   "source": [
    "class Employee(object):\n",
    "    def __init__(self, employeeName, employeeAge, employeeSalary):\n",
    "        self.employeeName = employeeName\n",
    "        self.employeeAge = employeeAge\n",
    "        self.employeeSalary = employeeSalary\n",
    "        \n",
    "    def __getEmployeeName(self):\n",
    "        print(\"Name : {}\".format(self.employeeName))\n",
    "        \n",
    "    def __getEmployeeAge(self):\n",
    "        print(\"Age : {}\".format(self.employeeAge))\n",
    "        \n",
    "    def __getEmployeeSalary(self):\n",
    "        print(\"Salary : {:.2f}\".format(self.employeeSalary))\n",
    "        \n",
    "    def getEmployeSalary(self):\n",
    "        return self.__getEmployeeSalary()\n",
    "    \n",
    "emp1 = Employee(\"Misha\", 30, 1000.00)\n",
    "\n",
    "\n",
    "# emp1.__getEmployee()  #it will get errors because its accessible from within class only\n",
    "# emp1.__getEmployeeAge() #errors\n",
    "\n",
    "emp1.getEmployeSalary()  #how to call private method from within the class\n",
    "      \n",
    "        "
   ]
  },
  {
   "cell_type": "markdown",
   "metadata": {},
   "source": [
    "#### Exercise 4 - Adding setters and working with a list of Employees\n",
    "\n",
    "In the **Employee** class add the following methods\n",
    "\n",
    "```\n",
    "1. setEmployeeAge - accepts age and sets it in the object\n",
    "2. setEmployeeName - accepts employee name and sets it in the object\n",
    "3. setEmployeeSalary - accepts employee salary and sets it i nthe object\n",
    "```\n",
    "\n",
    "Create a list of employees called employeeList. Initialize the list with three objects of type Employee. Initialize the object with the values \"None\" for employeeName, 0 for employeeAge and 0 for employeeSalary.\n",
    "\n",
    "Loop  through each employee in the employeeList. Each time, request the user to enter the name, age and salary of a different employee. Use the set methods to set the name, age and salary for each employee in the employeeList.\n",
    "\n",
    "Loop through each employee in the employeeList. Display the name, age and salary of each employee."
   ]
  },
  {
   "cell_type": "code",
   "execution_count": 3,
   "metadata": {},
   "outputs": [
    {
     "name": "stdout",
     "output_type": "stream",
     "text": [
      "Enter employee name: Ann\n",
      "Enter employee age: 22\n",
      "Enter employee salary: 2000.22\n",
      "Enter employee name: Ben\n",
      "Enter employee age: 33\n",
      "Enter employee salary: 3000.33\n",
      "Enter employee name: Chloe\n",
      "Enter employee age: 44\n",
      "Enter employee salary: 4000.44\n",
      "Employee name: Ann, age: 22, salary 2000.22\n",
      "Employee name: Ben, age: 33, salary 3000.33\n",
      "Employee name: Chloe, age: 44, salary 4000.44\n"
     ]
    }
   ],
   "source": [
    "class Employee(object):\n",
    "    def __init__(self, employeeName, employeeAge, employeeSalary):\n",
    "        self.employeeName = employeeName\n",
    "        self.employeeAge = employeeAge\n",
    "        self.employeeSalary = employeeSalary\n",
    "        \n",
    "    def getEmployeeName(self):\n",
    "        return self.employeeName\n",
    "            \n",
    "    def getEmployeeAge(self):\n",
    "        return self.employeeAge\n",
    "            \n",
    "    def getEmployeeSalary(self):\n",
    "        return self.employeeSalary\n",
    "       \n",
    "    def setEmployeeAge(self, age):\n",
    "        self.employeeAge = age\n",
    "        \n",
    "    def setEmployeeName(self, name):\n",
    "        self.employeeName = name\n",
    "\n",
    "    def setEmployeeSalary(self, salary):\n",
    "        self.employeeSalary = salary\n",
    "        \n",
    "    \n",
    "#Create a list of employees called employeeList. \n",
    "\n",
    "emp1 = Employee(None, 0, 0)\n",
    "emp2 = Employee(None, 0, 0)\n",
    "emp3 = Employee(None, 0, 0)\n",
    "\n",
    "employeeList = [emp1, emp2, emp3]\n",
    "\n",
    "for employee in employeeList:\n",
    "    name = raw_input(\"Enter employee name: \")\n",
    "    age = int(input(\"Enter employee age: \"))\n",
    "    salary = float(input(\"Enter employee salary: \"))\n",
    "    employee.setEmployeeName(name)\n",
    "    employee.setEmployeeAge(age)\n",
    "    employee.setEmployeeSalary(salary)\n",
    "    \n",
    "for employee in employeeList:\n",
    "    name = employee.getEmployeeName()\n",
    "    age = employee.getEmployeeAge()\n",
    "    salary = employee.getEmployeeSalary()\n",
    "    print(\"Employee name: {}, age: {}, salary {:.2f}\".format(name, age, salary))\n",
    "      "
   ]
  },
  {
   "cell_type": "markdown",
   "metadata": {},
   "source": [
    "#### Exercise 5 -  Creating a Python calculator class\n",
    "\n",
    "Create a Python class called Calculator. \n",
    "\n",
    "The class has the following data members\n",
    "\n",
    "```\n",
    "1. number1 - type float\n",
    "2. number2 - type float\n",
    "```\n",
    "\n",
    "The class must have the below methods\n",
    "\n",
    "```\n",
    "1. add - adds two numbers and returns the result\n",
    "2. subtract - subtracts the first number from the second number and returns the result\n",
    "3. multiply - multiply two numbers and returns the result\n",
    "4. divide - divide the first number by the second number and returns the result\n",
    "5. __init__ - accepts two numbers and uses those numbers to initialize number1 and number2 respectively\n",
    "```\n",
    "\n",
    "Create an object of the Calculator class. Initialize it with any two arbitrary numbers. Invoke the methods add, subtract, multiple and divide and display the result\n",
    "\n",
    "\n"
   ]
  },
  {
   "cell_type": "code",
   "execution_count": 6,
   "metadata": {},
   "outputs": [
    {
     "name": "stdout",
     "output_type": "stream",
     "text": [
      "66\n",
      "22\n",
      "968\n",
      "2\n"
     ]
    }
   ],
   "source": [
    "class Calculator(object):\n",
    "    def __init__(self, number1, number2):\n",
    "        self.number1 = number1\n",
    "        self.number2 = number2\n",
    "\n",
    "    def add(self):\n",
    "        return self.number1 + self.number2\n",
    "    \n",
    "    def subtract(self):\n",
    "        return self.number1 - self.number2\n",
    "    \n",
    "    def multiply(self):\n",
    "        return self.number1 * self.number2\n",
    "    \n",
    "    def divide(self):\n",
    "        return self.number1 / self.number2\n",
    "\n",
    "\n",
    "if __name__ == \"__main__\":\n",
    "    calc = Calculator(44, 22)\n",
    "    \n",
    "    print(calc.add())\n",
    "    print(calc.subtract())\n",
    "    print(calc.multiply())\n",
    "    print(calc.divide())\n",
    "  "
   ]
  }
 ],
 "metadata": {
  "kernelspec": {
   "display_name": "Python 2",
   "language": "python",
   "name": "python2"
  },
  "language_info": {
   "codemirror_mode": {
    "name": "ipython",
    "version": 2
   },
   "file_extension": ".py",
   "mimetype": "text/x-python",
   "name": "python",
   "nbconvert_exporter": "python",
   "pygments_lexer": "ipython2",
   "version": "2.7.13"
  }
 },
 "nbformat": 4,
 "nbformat_minor": 2
}
